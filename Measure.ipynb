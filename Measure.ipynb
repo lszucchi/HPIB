{
 "cells": [
  {
   "cell_type": "code",
   "execution_count": 1,
   "id": "8721f0fb-11c7-4377-b6ae-f3b99e120d73",
   "metadata": {},
   "outputs": [],
   "source": [
    "debug=False"
   ]
  },
  {
   "cell_type": "code",
   "execution_count": 2,
   "id": "aa49a615-d44b-4184-abce-4fe434428810",
   "metadata": {},
   "outputs": [],
   "source": [
    "# import os, time, datetime\n",
    "\n",
    "import sys\n",
    "sys.path.append(\"Modules\")\n",
    "\n",
    "from INOSerial import *\n",
    "from HPIB4155 import *\n",
    "from HPIB_plot import*\n",
    "\n",
    "GPIBch='GPIB0::17'\n",
    "INOch='COM3'\n",
    "\n",
    "timeout=30\n",
    "\n",
    "ptype=False\n",
    "\n",
    "VGS = {\n",
    "    'enable' : True,\n",
    "    'VGstart' : 0, 'VGstop' : 1.5, 'VGstep' : 0.01,\n",
    "    'VD' : '25m', 'Compliance' : '1.5m'\n",
    "    }\n",
    "\n",
    "# SubVt = {\n",
    "#     'enable' : True,\n",
    "#     'VGstart' : Vt-0.2, 'VGstop' : Vt+0.2, 'VGstep' : '1m',\n",
    "#     'VD' : '10m', 'Compliance' : '10m'\n",
    "#     }\n",
    "    \n",
    "VGS_sat = {\n",
    "    'enable' : True,\n",
    "    'VGstart' : 0, 'VGstop' : 1.5, 'VGstep' : 0.01,\n",
    "    'VD' : 1.5, 'Compliance' : '1.5m'\n",
    "    }\n",
    "\n",
    "VDS = {\n",
    "    'enable' : True,\n",
    "    'VDstart' : 0, 'VDstop' : 1.5, 'VDstep' : 0.01,\n",
    "    'VGstart' : 0.9, 'VGstop' : 1.5, 'VGstep' : 0.15,\n",
    "    'Compliance' : '1.5m'\n",
    "    }\n",
    "\n",
    "Ex_Ib = {\n",
    "    'enable' : True,\n",
    "    'VSstart' : 0, 'VSstop' : 1.5, 'VSstep' : 0.01,\n",
    "    'VGstart' : 1.3, 'VGstop' : 1.5, 'VGstep' : 0.1,\n",
    "    'Compliance' : '1.5m'\n",
    "    }\n",
    "\n",
    "VP = {\n",
    "    'enable' : True,\n",
    "    'VGstart' : -1.5, 'VGstop' : 1.5, 'VGstep' : 0.01,\n",
    "    'Ib' : -2.98e-06, 'Compliance' : 1.5\n",
    "    }"
   ]
  },
  {
   "cell_type": "code",
   "execution_count": 3,
   "id": "64abf374-4627-41cb-a26f-76ace84eacbc",
   "metadata": {},
   "outputs": [
    {
     "data": {
      "text/plain": [
       "{'enable': True,\n",
       " 'VGstart': -1.5,\n",
       " 'VGstop': 1.5,\n",
       " 'VGstep': 0.01,\n",
       " 'Ib': -2.98e-06,\n",
       " 'Compliance': 1.5}"
      ]
     },
     "execution_count": 3,
     "metadata": {},
     "output_type": "execute_result"
    }
   ],
   "source": [
    "VP"
   ]
  },
  {
   "cell_type": "code",
   "execution_count": 4,
   "id": "d46af44f-79b9-4005-adc3-0cd631edb08f",
   "metadata": {},
   "outputs": [
    {
     "name": "stdout",
     "output_type": "stream",
     "text": [
      "SHOR\n"
     ]
    }
   ],
   "source": [
    "HP=HP4155(GPIBch, debug=debug)\n",
    "HP.StopFlag=False\n",
    "\n",
    "HP.reset()\n",
    "\n",
    "HP.beep()\n",
    "\n",
    "print(HP.ask(\":PAGE:MEAS:MSET:ITIM?\"))"
   ]
  },
  {
   "cell_type": "code",
   "execution_count": 5,
   "id": "57ce9085-ac04-495e-b3a0-7e0509f394c1",
   "metadata": {
    "editable": true,
    "slideshow": {
     "slide_type": ""
    },
    "tags": []
   },
   "outputs": [
    {
     "name": "stdin",
     "output_type": "stream",
     "text": [
      " TN2 RT\n"
     ]
    },
    {
     "name": "stdout",
     "output_type": "stream",
     "text": [
      "C:/Users/Zucchi/Documents/Medidas/TN2 RT/231106/csv/\n"
     ]
    }
   ],
   "source": [
    "prefix=input()\n",
    "\n",
    "now=datetime.datetime.now().strftime('%y%m%d')\n",
    "if os.path.isdir('C:/Users/Zucchi/Documents/Medidas'):\n",
    "    path='C:/Users/Zucchi/Documents/Medidas'\n",
    "else: \n",
    "    path=\"C:/Users/Zucchi-Note/Dropbox/Cryochip/Medidas\"\n",
    "\n",
    "path+=f\"/{prefix}/{now}/csv/\"\n",
    "\n",
    "print(path)\n",
    "\n",
    "os.makedirs(path, exist_ok=True)"
   ]
  },
  {
   "cell_type": "code",
   "execution_count": 6,
   "id": "e450e8c1-c768-4d73-af20-7c252ee14300",
   "metadata": {},
   "outputs": [
    {
     "data": {
      "text/plain": [
       "'LONG'"
      ]
     },
     "execution_count": 6,
     "metadata": {},
     "output_type": "execute_result"
    }
   ],
   "source": [
    "if False:\n",
    "    if ptype:\n",
    "        HP.SetDiode(0, 1.5, 0.05)\n",
    "    else:\n",
    "        HP.SetDiode(0, -1.5, 0.05)\n",
    "    HP.SetIntTime(\"SHOR\")\n",
    "    \n",
    "    now=datetime.datetime.now().strftime(\"%y%m%d %H%M%S\")\n",
    "    \n",
    "    plotp=f\"{path}{HP.term}-{now}.csv\"\n",
    "\n",
    "    HP.SingleSave(plotp, timeout)\n",
    "    Plot(plotp, \"VF\", [\"ID\", \"IS\"])\n",
    "    \n",
    "HP.SetIntTime(\"LONG\")\n",
    "HP.ask(\":PAGE:MEAS:MSET:ITIM?\")"
   ]
  },
  {
   "cell_type": "code",
   "execution_count": null,
   "id": "e96f7494-8f02-4768-a4e5-8dc71d12ed52",
   "metadata": {
    "editable": true,
    "slideshow": {
     "slide_type": ""
    },
    "tags": []
   },
   "outputs": [],
   "source": [
    "if VGS['enable']:\n",
    "    HP.SetVGS(VGS, ptype)\n",
    "    \n",
    "    now=datetime.datetime.now().strftime(\"%y%m%d %H%M%S\")\n",
    "    \n",
    "    plotp=f\"{path}{HP.term}-{now}.csv\""
   ]
  },
  {
   "cell_type": "code",
   "execution_count": null,
   "id": "6ed1b8e7-29b3-4a63-9716-b89cd9368f3b",
   "metadata": {
    "editable": true,
    "slideshow": {
     "slide_type": ""
    },
    "tags": []
   },
   "outputs": [],
   "source": [
    "if VGS['enable']:\n",
    "    HP.SingleSave(plotp, timeout)\n",
    "    VTO=PlotVgs(plotp)\n",
    "    print(VTO)"
   ]
  },
  {
   "cell_type": "markdown",
   "id": "84d3d5bf-e7f1-4cf4-9aa4-8f725fb4ddcd",
   "metadata": {
    "editable": true,
    "slideshow": {
     "slide_type": ""
    },
    "tags": []
   },
   "source": [
    "if VGS['enable']:\n",
    "    HP.SetVgs(0.3*VTO, 0.8*VTO, '2m', VGS['VD'], '1m')\n",
    "    HP.term='SubVt'\n",
    "    now=datetime.datetime.now().strftime(\"%y%m%d %H%M%S\")\n",
    "    \n",
    "    plotp=f\"{path}{HP.term}-{now}.csv\""
   ]
  },
  {
   "cell_type": "markdown",
   "id": "817ede8e-6299-43f4-b0ed-7529989ac1ae",
   "metadata": {
    "editable": true,
    "slideshow": {
     "slide_type": ""
    },
    "tags": []
   },
   "source": [
    "if VGS['enable']:\n",
    "    HP.SingleSave(plotp, timeout*60)\n",
    "    PlotSubVt(plotp)"
   ]
  },
  {
   "cell_type": "code",
   "execution_count": null,
   "id": "f2c1d7e6-bf83-497a-92d0-6233a907e825",
   "metadata": {},
   "outputs": [],
   "source": [
    "if VGS_sat['enable']:\n",
    "    HP.SetVGS(VGS_sat, ptype)\n",
    "\n",
    "    now=datetime.datetime.now().strftime(\"%y%m%d %H%M%S\")\n",
    "    \n",
    "    plotp=f\"{path}{HP.term}-{now}.csv\""
   ]
  },
  {
   "cell_type": "code",
   "execution_count": null,
   "id": "f4ea8641-6f51-4181-ae0e-1906fd5532e6",
   "metadata": {},
   "outputs": [],
   "source": [
    "if VGS_sat['enable']:\n",
    "    HP.SingleSave(plotp, timeout*60)\n",
    "    PlotVgs(plotp)"
   ]
  },
  {
   "cell_type": "code",
   "execution_count": null,
   "id": "bca97235-b08f-458b-82e1-079be2a8669b",
   "metadata": {
    "editable": true,
    "slideshow": {
     "slide_type": ""
    },
    "tags": []
   },
   "outputs": [],
   "source": [
    "if VDS['enable']:\n",
    "    HP.SetVDS(VDS, ptype)\n",
    "\n",
    "    now=datetime.datetime.now().strftime(\"%y%m%d %H%M%S\")\n",
    "    \n",
    "    plotp=f\"{path}{HP.term}-{now}.csv\""
   ]
  },
  {
   "cell_type": "code",
   "execution_count": null,
   "id": "04551ac0-79f7-4185-aeef-dde3c2e69ea7",
   "metadata": {
    "editable": true,
    "slideshow": {
     "slide_type": ""
    },
    "tags": []
   },
   "outputs": [],
   "source": [
    "if VDS['enable']:\n",
    "    HP.SingleSave(plotp, timeout*60*7)\n",
    "    Plot(plotp, 'VD', 'ID')"
   ]
  },
  {
   "cell_type": "code",
   "execution_count": 7,
   "id": "8dc0292d-e7cc-419d-a36c-0c46a64d6c4c",
   "metadata": {},
   "outputs": [
    {
     "name": "stdout",
     "output_type": "stream",
     "text": [
      "Set Ex_Ib\n",
      " Vs=(0, 1.5, 0.01), Vg=(1.3, 1.5, 0.1)\n"
     ]
    }
   ],
   "source": [
    "if Ex_Ib['enable']:\n",
    "    HP.SetEXIB(Ex_Ib, ptype)\n",
    "\n",
    "    now=datetime.datetime.now().strftime(\"%y%m%d %H%M%S\")\n",
    "    \n",
    "    plotp=f\"{path}{HP.term}-{now}.csv\""
   ]
  },
  {
   "cell_type": "code",
   "execution_count": 8,
   "id": "a8fad219-c45a-4a1f-8e3b-c180ce400e7d",
   "metadata": {},
   "outputs": [
    {
     "name": "stdout",
     "output_type": "stream",
     "text": [
      "HP Blink 60s\n",
      "HP Blink 60s\n",
      "HP Blink 60s\n",
      "[-3.12984968e-06 -2.97656375e-06 -2.82458831e-06]\n",
      "Is=-2.98e-06   AbsDev: 3.056982045569891e-07\n"
     ]
    },
    {
     "data": {
      "image/png": "[encoded data removed]",
      "text/plain": [
       "<Figure size 640x480 with 1 Axes>"
      ]
     },
     "metadata": {},
     "output_type": "display_data"
    }
   ],
   "source": [
    "if Ex_Ib['enable']:    \n",
    "    HP.SingleSave(plotp, timeout*60*7)\n",
    "    ibcalc=plotp\n",
    "    VP['Ib']=CalcIs(ibcalc, ptype)"
   ]
  },
  {
   "cell_type": "code",
   "execution_count": 7,
   "id": "f583b41a-1783-42d9-a2d9-adcb72d4a023",
   "metadata": {
    "editable": true,
    "slideshow": {
     "slide_type": ""
    },
    "tags": []
   },
   "outputs": [
    {
     "name": "stdout",
     "output_type": "stream",
     "text": [
      "Set VpxVgs\n",
      "Is=-2.98e-06, Vg=(-1.5, 1.5, 0.01), Vlim=1.5\n"
     ]
    }
   ],
   "source": [
    "if VP['enable']:\n",
    "    # VP['Ib']=CalcIb(ibcalc, ptype)\n",
    "    HP.SetVP(VP, ptype)\n",
    "\n",
    "    now=datetime.datetime.now().strftime(\"%y%m%d %H%M%S\")\n",
    "    \n",
    "    plotp=f\"{path}{HP.term}-{now}.csv\""
   ]
  },
  {
   "cell_type": "code",
   "execution_count": 8,
   "id": "bde3c0bd-7c11-42c2-aae3-bb259ecf864b",
   "metadata": {
    "editable": true,
    "slideshow": {
     "slide_type": ""
    },
    "tags": []
   },
   "outputs": [
    {
     "name": "stdout",
     "output_type": "stream",
     "text": [
      "HP Blink 60s\n",
      "HP Blink 60s\n"
     ]
    },
    {
     "data": {
      "image/png": "[encoded data removed]",
      "text/plain": [
       "<Figure size 640x480 with 1 Axes>"
      ]
     },
     "metadata": {},
     "output_type": "display_data"
    }
   ],
   "source": [
    "if VP['enable']: \n",
    "    HP.SingleSave(plotp, timeout*60)\n",
    "    Plot(plotp, 'VG', 'VS')"
   ]
  },
  {
   "cell_type": "code",
   "execution_count": null,
   "id": "cdb15e5b-e681-4342-bb5d-92e0fbcbbc86",
   "metadata": {},
   "outputs": [],
   "source": []
  }
 ],
 "metadata": {
  "kernelspec": {
   "display_name": "Python 3 (ipykernel)",
   "language": "python",
   "name": "python3"
  },
  "language_info": {
   "codemirror_mode": {
    "name": "ipython",
    "version": 3
   },
   "file_extension": ".py",
   "mimetype": "text/x-python",
   "name": "python",
   "nbconvert_exporter": "python",
   "pygments_lexer": "ipython3",
   "version": "3.11.4"
  }
 },
 "nbformat": 4,
 "nbformat_minor": 5
}
