{
 "cells": [
  {
   "cell_type": "code",
   "execution_count": 1,
   "id": "7b94a4f2-d90e-4be7-9678-247553fc0675",
   "metadata": {
    "slideshow": {
     "slide_type": ""
    },
    "tags": []
   },
   "outputs": [],
   "source": [
    "%load_ext autoreload\n",
    "%autoreload 2\n",
    "%matplotlib agg\n",
    "\n",
    "import sys\n",
    "sys.path.append(\"../modules\")\n",
    "\n",
    "from loop import *"
   ]
  },
  {
   "cell_type": "code",
   "execution_count": 2,
   "id": "4000c6b8-3585-48e1-9095-6cc041a3de67",
   "metadata": {},
   "outputs": [],
   "source": [
    "path='C:/Users/Zucchi/Documents/Medidas/240621 - TN3 TN12 TP1 DN1 DN2 CB1/'"
   ]
  },
  {
   "cell_type": "code",
   "execution_count": 3,
   "id": "3cddbfed-3bbb-41e3-9ba3-11042e133573",
   "metadata": {},
   "outputs": [
    {
     "name": "stdout",
     "output_type": "stream",
     "text": [
      "HEWLETT-PACKARD,4155A,0,01.04:01.04:01.00\n"
     ]
    },
    {
     "data": {
      "text/plain": [
       "0"
      ]
     },
     "execution_count": 3,
     "metadata": {},
     "output_type": "execute_result"
    }
   ],
   "source": [
    "INO=Arduino('COM3')\n",
    "HP=HP4155('GPIB0::17', debug=False)\n",
    "HP.SetIntTime(\"MED\")"
   ]
  },
  {
   "cell_type": "code",
   "execution_count": 4,
   "id": "9da06a79-55bb-4bef-9992-382c06ac2f18",
   "metadata": {},
   "outputs": [
    {
     "name": "stdout",
     "output_type": "stream",
     "text": [
      "1\n",
      "\n",
      "Measurement: 240703 144533\n",
      "Open INO: ch1\n",
      "Chn1 - TN3\n",
      "Set IdxVgs\n",
      "Vg=(0, 1.5, 0.01), Vd=0.025, Ilim=0.001\n",
      "IdxVgs\n",
      "Vth= 0.538 V\n",
      "Set IdxVgs\n",
      "Vg=(0, 1.5, 0.01), Vd=1.5, Ilim=0.001\n",
      "IdxVgs\n",
      "Vth= 1.506 V\n",
      "Set Ex_Is\n",
      "Vs=(0.5, 0, -0.025), Vg=(0.7, 0.8, 0.05), Vd=0.7\n",
      "Ex_Is\n",
      "Is= -7.673026918384909e-07 V\n",
      "Set VpxVgs\n",
      "Is=-7.673e-07, Vg=(0, 1.806, 0.01), Vlim=1.5\n",
      "VpxVgs\n",
      "VTO= 0.09 V\n",
      "Set IdxVds\n",
      "Vd=(0, 1.5, 0.01), Vg=(0.6, 1.2, 0.2), Ilim=0.001\n",
      "IdxVds\n",
      "30s 30s | 30s Open INO: ch4\n",
      "Chn4 - TN12\n",
      "Set IdxVgs\n",
      "Vg=(0, 1.5, 0.01), Vd=0.025, Ilim=0.001\n",
      "IdxVgs\n",
      "Vth= 0.353 V\n",
      "Set IdxVgs\n",
      "Vg=(0, 1.5, 0.01), Vd=1.5, Ilim=0.001\n",
      "IdxVgs\n",
      "Vth= 1.616 V\n",
      "Set Ex_Is\n",
      "Vs=(0.5, 0, -0.025), Vg=(0.7, 0.8, 0.05), Vd=0.7\n",
      "Ex_Is\n",
      "Is= -3.946689401268468e-07 V\n",
      "Set VpxVgs\n",
      "Is=-3.947e-07, Vg=(0, 1.9160000000000001, 0.01), Vlim=1.5\n",
      "VpxVgs\n",
      "30s VTO= 0.33 V\n",
      "Set IdxVds\n",
      "Vd=(0, 1.5, 0.01), Vg=(0.6, 1.2, 0.2), Ilim=0.001\n",
      "IdxVds\n",
      "30s 30s | 30s Open INO: ch2\n",
      "Chn2 - DN2\n",
      "Set Diode\n",
      "Vf=(-0.5, 1.5)\n",
      "Diode\n",
      "Open INO: ch3\n",
      "Chn3 - DN1\n",
      "Set Diode\n",
      "Vf=(-0.5, 1.5)\n",
      "Diode\n"
     ]
    },
    {
     "ename": "KeyboardInterrupt",
     "evalue": "",
     "output_type": "error",
     "traceback": [
      "\u001b[1;31m---------------------------------------------------------------------------\u001b[0m",
      "\u001b[1;31mKeyboardInterrupt\u001b[0m                         Traceback (most recent call last)",
      "Cell \u001b[1;32mIn[4], line 91\u001b[0m\n\u001b[0;32m     87\u001b[0m Plot(HP\u001b[38;5;241m.\u001b[39mSingleSave(\u001b[38;5;124mf\u001b[39m\u001b[38;5;124m'\u001b[39m\u001b[38;5;132;01m{\u001b[39;00mpathp\u001b[38;5;132;01m}\u001b[39;00m\u001b[38;5;124m/\u001b[39m\u001b[38;5;132;01m{\u001b[39;00mstart\u001b[38;5;132;01m}\u001b[39;00m\u001b[38;5;124m.csv\u001b[39m\u001b[38;5;124m'\u001b[39m, timeout\u001b[38;5;241m=\u001b[39m\u001b[38;5;241m30\u001b[39m, real\u001b[38;5;241m=\u001b[39m\u001b[38;5;28;01mTrue\u001b[39;00m), \u001b[38;5;124m'\u001b[39m\u001b[38;5;124mVf\u001b[39m\u001b[38;5;124m'\u001b[39m, \u001b[38;5;124m'\u001b[39m\u001b[38;5;124mIf\u001b[39m\u001b[38;5;124m'\u001b[39m)\n\u001b[0;32m     89\u001b[0m HP\u001b[38;5;241m.\u001b[39mSetStop(\u001b[38;5;124m\"\u001b[39m\u001b[38;5;124mOFF\u001b[39m\u001b[38;5;124m\"\u001b[39m)\n\u001b[1;32m---> 91\u001b[0m \u001b[43msleep\u001b[49m\u001b[43m(\u001b[49m\u001b[38;5;241;43m60\u001b[39;49m\u001b[43m)\u001b[49m\n\u001b[0;32m     92\u001b[0m INO\u001b[38;5;241m.\u001b[39mopench(\u001b[38;5;241m6\u001b[39m)\n\u001b[0;32m     93\u001b[0m printf(\u001b[38;5;124mf\u001b[39m\u001b[38;5;124m\"\u001b[39m\u001b[38;5;124mChn\u001b[39m\u001b[38;5;132;01m{\u001b[39;00m\u001b[38;5;241m5\u001b[39m\u001b[38;5;132;01m}\u001b[39;00m\u001b[38;5;124m - CB1\u001b[39m\u001b[38;5;124m\"\u001b[39m, path)\n",
      "\u001b[1;31mKeyboardInterrupt\u001b[0m: "
     ]
    }
   ],
   "source": [
    "freq=1\n",
    "count=1\n",
    "\n",
    "HP.SetIntTime(\"MED\")\n",
    "\n",
    "for i in range(count):\n",
    "\n",
    "    prog_bar=display('',display_id=True)\n",
    "    \n",
    "    while datetime.datetime.now().time().minute%freq:       \n",
    "        prog_bar.update(datetime.datetime.now().strftime(\"%H:%M:%S\"))\n",
    "        sleep(1)\n",
    "    clear_output(wait=True)\n",
    "    \n",
    "    start=datetime.datetime.now().strftime(\"%y%m%d %H%M%S\")\n",
    "    print(i+1)\n",
    "    printf(f\"\\nMeasurement: {start}\", path)\n",
    "\n",
    "    plt.close('all')\n",
    "\n",
    "    HP.SetStop(\"OFF\")\n",
    "\n",
    "    INO.opench(1)\n",
    "    printf(f\"Chn{1} - TN3\", path)\n",
    "    pathp=path+'TN3'\n",
    "    os.makedirs(pathp, exist_ok=True)\n",
    "    \n",
    "    HP.SetVgs(0, 1.5, 0.01, 0.025)\n",
    "    LIN = PlotVgs(HP.SingleSave(f'{pathp}/IdVgs - {start}.csv', timeout=30))\n",
    "    printf(f'Vth= {LIN} V', path)\n",
    "\n",
    "    HP.SetVgs(0, 1.5, 0.01, 1.5)\n",
    "    LIN = PlotVgs(HP.SingleSave(f'{pathp}/IdVgsSat - {start}.csv', timeout=30))\n",
    "    printf(f'Vth= {LIN} V', path)\n",
    "\n",
    "    HP.SetEx_Is(0.5, 0, -0.025, 0.7, 0.8, 0.05, 0.7)\n",
    "    Is=CalcIs(HP.SingleSave(f'{pathp}/ExIs - {start}.csv', timeout=30), 300)\n",
    "    printf(f'Is= {Is} V', path)\n",
    "    \n",
    "    HP.SetVp(Is, 0, LIN+0.3, 0.01)\n",
    "    VTO=PlotVp(HP.SingleSave(f'{pathp}/VpVg - {start}.csv', timeout=30))\n",
    "    printf(f'VTO= {VTO} V', path)\n",
    "\n",
    "    HP.SetVds(0, 1.5, 0.01, 0.6, 1.2, 0.2)\n",
    "    Plot(HP.SingleSave(f'{pathp}/IdVds - {start}.csv', timeout=30), 'Vd', 'Id')\n",
    "\n",
    "    INO.opench(4)\n",
    "    printf(f\"Chn{4} - TN12\", path)\n",
    "    pathp=path+'TN12'\n",
    "    os.makedirs(pathp, exist_ok=True)\n",
    "    \n",
    "    HP.SetVgs(0, 1.5, 0.01, 0.025)\n",
    "    LIN = PlotVgs(HP.SingleSave(f'{pathp}/IdVgs - {start}.csv', timeout=30))\n",
    "    printf(f'Vth= {LIN} V', path)\n",
    "\n",
    "    HP.SetVgs(0, 1.5, 0.01, 1.5)\n",
    "    LIN = PlotVgs(HP.SingleSave(f'{pathp}/IdVgsSat - {start}.csv', timeout=30))\n",
    "    printf(f'Vth= {LIN} V', path)\n",
    "\n",
    "    HP.SetEx_Is(0.5, 0, -0.025, 0.7, 0.8, 0.05, 0.7)\n",
    "    Is=CalcIs(HP.SingleSave(f'{pathp}/ExIs - {start}.csv', timeout=30), 300)\n",
    "    printf(f'Is= {Is} V', path)\n",
    "\n",
    "    HP.SetVp(Is, 0, LIN+0.3, 0.01)\n",
    "    VTO=PlotVp(HP.SingleSave(f'{pathp}/VpVg - {start}.csv', timeout=30))\n",
    "    printf(f'VTO= {VTO} V', path)\n",
    "\n",
    "    HP.SetVds(0, 1.5, 0.01, 0.6, 1.2, 0.2)\n",
    "    Plot(HP.SingleSave(f'{pathp}/IdVds - {start}.csv', timeout=30), 'Vd', 'Id')\n",
    "\n",
    "    HP.SetStop(\"COMP\")\n",
    "\n",
    "    INO.opench(2)\n",
    "    printf(f\"Chn{2} - DN2\", path)\n",
    "    pathp=path+'DN2'\n",
    "    os.makedirs(pathp, exist_ok=True)\n",
    "\n",
    "    HP.SingleDiode(-0.5, 1.5, 0.01, SMUN='SMU1', SMUP='SMU2', Comp=0.5e-3)\n",
    "    Plot(HP.SingleSave(f'{pathp}/{start}.csv', timeout=30, real=True), 'Vf', 'If')\n",
    "\n",
    "    INO.opench(3)\n",
    "    printf(f\"Chn{3} - DN1\", path)\n",
    "    pathp=path+'DN1'\n",
    "    os.makedirs(pathp, exist_ok=True)\n",
    "\n",
    "    HP.SingleDiode(-0.5, 1.5, 0.01, SMUN='SMU1', SMUP='SMU2', Comp=0.5e-3)\n",
    "    Plot(HP.SingleSave(f'{pathp}/{start}.csv', timeout=30, real=True), 'Vf', 'If')\n",
    "    \n",
    "    HP.SetStop(\"OFF\")\n",
    "\n",
    "    INO.opench(6)\n",
    "    printf(f\"Chn{5} - CB1\", path)\n",
    "    pathp=path+'CB1'\n",
    "    os.makedirs(pathp, exist_ok=True)\n",
    "\n",
    "    HP.Set2P(-0.5e-3, 0.5e-3, 200, SMUN='SMU1', SMUP='SMU2', Comp=4)\n",
    "    Rshort=Plot2P(HP.SingleSave(f'{pathp}/{start}.csv', timeout=30))\n",
    "\n",
    "    printf(f\"Rshort={format(Rshort, '.2f')}\", path)"
   ]
  },
  {
   "cell_type": "code",
   "execution_count": 22,
   "id": "abec678b-18a6-475a-94f6-cf9911fc05a0",
   "metadata": {},
   "outputs": [
    {
     "name": "stdout",
     "output_type": "stream",
     "text": [
      "Open INO: ch1\n",
      "Set VpxVgs\n",
      "Is=-1.000e-05, Vg=(0, 0.6, 0.01), Vlim=1.5\n",
      "VpxVgs\n"
     ]
    },
    {
     "data": {
      "image/png": "[encoded data removed]",
      "text/plain": [
       "<Figure size 640x480 with 1 Axes>"
      ]
     },
     "metadata": {},
     "output_type": "display_data"
    }
   ],
   "source": [
    "plt.close('all')\n",
    "\n",
    "%matplotlib inline\n",
    "\n",
    "INO.opench(1)\n",
    "pathp=path+'TN3'\n",
    "# HP.SetEx_Is(-0.1, 0.5, 0.025, 0.6, 0.7, 0.05, 0.6)\n",
    "# Is=CalcIs(HP.SingleSave(f'{pathp}/ExIs - force.csv', timeout=30), 294)\n",
    "HP.SetVp(-10e-6, 0, 0.6, 0.01)\n",
    "VTO=PlotVp(HP.SingleSave(f'{pathp}/VpVg - force.csv', timeout=30))"
   ]
  },
  {
   "cell_type": "code",
   "execution_count": null,
   "id": "debf9c1b-af75-4722-a2a7-f7a5f087f747",
   "metadata": {},
   "outputs": [],
   "source": [
    "HP.close()\n",
    "INO.opench(0)\n",
    "INO.close() "
   ]
  }
 ],
 "metadata": {
  "kernelspec": {
   "display_name": "Python 3 (ipykernel)",
   "language": "python",
   "name": "python3"
  },
  "language_info": {
   "codemirror_mode": {
    "name": "ipython",
    "version": 3
   },
   "file_extension": ".py",
   "mimetype": "text/x-python",
   "name": "python",
   "nbconvert_exporter": "python",
   "pygments_lexer": "ipython3",
   "version": "3.11.4"
  }
 },
 "nbformat": 4,
 "nbformat_minor": 5
}
