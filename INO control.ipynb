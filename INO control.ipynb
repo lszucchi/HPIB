{
 "cells": [
  {
   "cell_type": "code",
   "execution_count": 1,
   "id": "85fab50b-2772-4ed4-b04d-e54782380e32",
   "metadata": {},
   "outputs": [],
   "source": [
    "import sys\n",
    "sys.path.append(\"Modules\")\n",
    "\n",
    "from INOSerial import *\n",
    "\n",
    "INO=Arduino('COM3')"
   ]
  },
  {
   "cell_type": "code",
   "execution_count": 3,
   "id": "96e7c14d-6efa-4997-8c8b-ddc0607089ee",
   "metadata": {},
   "outputs": [
    {
     "name": "stdin",
     "output_type": "stream",
     "text": [
      " 6\n"
     ]
    },
    {
     "name": "stdout",
     "output_type": "stream",
     "text": [
      "Open INO: ch6\n"
     ]
    }
   ],
   "source": [
    "INO.opench(int(input()))"
   ]
  },
  {
   "cell_type": "markdown",
   "id": "cebb03be-3dfc-4a05-ad00-c4d9bf14039e",
   "metadata": {},
   "source": [
    "##### "
   ]
  }
 ],
 "metadata": {
  "kernelspec": {
   "display_name": "Python 3 (ipykernel)",
   "language": "python",
   "name": "python3"
  },
  "language_info": {
   "codemirror_mode": {
    "name": "ipython",
    "version": 3
   },
   "file_extension": ".py",
   "mimetype": "text/x-python",
   "name": "python",
   "nbconvert_exporter": "python",
   "pygments_lexer": "ipython3",
   "version": "3.11.4"
  }
 },
 "nbformat": 4,
 "nbformat_minor": 5
}
