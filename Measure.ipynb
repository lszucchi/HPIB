{
 "cells": [
  {
   "cell_type": "code",
   "execution_count": 2,
   "id": "0453e67d-bc24-4c24-8b62-5e7cb26dc3e0",
   "metadata": {},
   "outputs": [],
   "source": [
    "import os, datetime\n",
    "\n",
    "GPIBch='GPIB0::17'\n",
    "INOch='COM3'\n",
    "\n",
    "debug=False\n",
    "timeout=30\n",
    "\n",
    "VGS = {\n",
    "    'enable' : True,\n",
    "    'VGstart' : 0, 'VGstop' : 0, 'VGstep' : 0,\n",
    "    'VD' : '10m', 'Compliance' : '10m'\n",
    "    }\n",
    "\n",
    "Vt=0.8\n",
    "\n",
    "SubVt = {\n",
    "    'enable' : True,\n",
    "    'VGstart' : Vt-0.2, 'VGstop' : Vt+0.2, 'VGstep' : '1m',\n",
    "    'VD' : '10m', 'Compliance' : '10m'\n",
    "    }\n",
    "    \n",
    "VGS_sat = {\n",
    "    'enable' : True,\n",
    "    'VGstart' : 0, 'VGstop' : 1.5, 'VGstep' : 0.01,\n",
    "    'VD' : 1.5, 'Compliance' : '10m'\n",
    "    }\n",
    "\n",
    "VDS = {\n",
    "    'enable' : True,\n",
    "    'VDstart' : 0, 'VDstop' : 1.5, 'VDstep' : 0.01,\n",
    "    'VGstart' : Vt-0.2, 'VGstop' : 1.5, 'VGstep' : (1.7-Vt)/6,\n",
    "    'VD' : '10m', 'Compliance' : '10m'\n",
    "    }\n",
    "\n",
    "Ex_Ib = {\n",
    "    'enable' : True,\n",
    "    'VSstart' : 0, 'VSstop' : 0, 'VSstep' : 0,\n",
    "    'VGstart' : Vt-0.2, 'VGstop' : 1.5, 'VGstep' : (1.7-Vt)/6,\n",
    "    'VD' : '10m', 'Compliance' : '10m'\n",
    "    }\n",
    "\n",
    "VP = {\n",
    "    'enable' : True,\n",
    "    'VGstart' : 0, 'VGstop' : 1.5, 'VGstep' : 0.01,\n",
    "    'Ib' : '1u', 'Compliance' : '2'\n",
    "    }"
   ]
  },
  {
   "cell_type": "code",
   "execution_count": 3,
   "id": "d46af44f-79b9-4005-adc3-0cd631edb08f",
   "metadata": {},
   "outputs": [
    {
     "data": {
      "text/plain": [
       "'HEWLETT-PACKARD,4155A,0,01.04:01.04:01.00'"
      ]
     },
     "execution_count": 3,
     "metadata": {},
     "output_type": "execute_result"
    }
   ],
   "source": [
    "from HPIB4155 import *\n",
    "\n",
    "HP=HP4155(GPIBch)\n",
    "\n",
    "HP.reset()\n",
    "\n",
    "HP.ask(\"*IDN?\")"
   ]
  },
  {
   "cell_type": "code",
   "execution_count": 18,
   "id": "3ed7e91d-fffc-4ab2-a91c-c1f51552119d",
   "metadata": {},
   "outputs": [
    {
     "name": "stdin",
     "output_type": "stream",
     "text": [
      " teste\n"
     ]
    },
    {
     "name": "stdout",
     "output_type": "stream",
     "text": [
      "/Users/Zucchi/Documents/Medidas/231026/teste/\n",
      "/Users/Zucchi/Documents/Medidas/231026\n"
     ]
    }
   ],
   "source": [
    "prefix=input()\n",
    "\n",
    "now=datetime.datetime.now().strftime('%y%m%d')\n",
    "\n",
    "path=f\"/Users/Zucchi/Documents/Medidas/{now}/{prefix}/\"\n",
    "\n",
    "if not os.path.isdir(path):\n",
    "    try: os.mkdir(path)\n",
    "    except: \n",
    "        os.mkdir(path.rsplit('/', 2)[0])\n",
    "        os.mkdir(path)\n"
   ]
  },
  {
   "cell_type": "code",
   "execution_count": 6,
   "id": "57ce9085-ac04-495e-b3a0-7e0509f394c1",
   "metadata": {},
   "outputs": [
    {
     "name": "stdout",
     "output_type": "stream",
     "text": [
      "0 0 0 10m 10m\n",
      "Set IdxVgs\n"
     ]
    }
   ],
   "source": [
    "prefix=input()\n",
    "\n",
    "if VGS['enable']:\n",
    "    HP.SetVGS(VGS)\n",
    "\n",
    "path=\n",
    "\n",
    "\n",
    "\n",
    "HP.SingleSave("
   ]
  },
  {
   "cell_type": "code",
   "execution_count": null,
   "id": "fa4c8e02-f237-4129-925f-1a10c1b12b9c",
   "metadata": {},
   "outputs": [],
   "source": []
  }
 ],
 "metadata": {
  "kernelspec": {
   "display_name": "Python 3 (ipykernel)",
   "language": "python",
   "name": "python3"
  },
  "language_info": {
   "codemirror_mode": {
    "name": "ipython",
    "version": 3
   },
   "file_extension": ".py",
   "mimetype": "text/x-python",
   "name": "python",
   "nbconvert_exporter": "python",
   "pygments_lexer": "ipython3",
   "version": "3.11.4"
  }
 },
 "nbformat": 4,
 "nbformat_minor": 5
}
