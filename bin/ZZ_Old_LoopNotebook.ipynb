{
 "cells": [
  {
   "cell_type": "code",
   "execution_count": 1,
   "id": "7b94a4f2-d90e-4be7-9678-247553fc0675",
   "metadata": {},
   "outputs": [],
   "source": [
    "import sys\n",
    "sys.path.append(\"../modules\")\n",
    "\n",
    "from loop import *\n",
    "\n",
    "INO=Arduino('COM3')\n",
    "HP=HP4155('GPIB0::17', debug=False)"
   ]
  },
  {
   "cell_type": "code",
   "execution_count": 3,
   "id": "bb6ae2a4-8cbf-4722-92e2-4a8e97ff698f",
   "metadata": {},
   "outputs": [],
   "source": [
    "ChnSelect = [True, False, False, False, False, False]\n",
    "ChnPrefix=['TP2', 'TN3', '', '', '','']\n",
    "ptype= [True, False, True, True, True, True]"
   ]
  },
  {
   "cell_type": "code",
   "execution_count": 3,
   "id": "ccf4982c-ffd8-4415-9a4d-02445a0d83ba",
   "metadata": {},
   "outputs": [
    {
     "name": "stdout",
     "output_type": "stream",
     "text": [
      "Chn6 measure: False\n",
      "Open INO: ch6\n",
      "Measuring short \n",
      "\n",
      "Set 2P\n",
      "I=(-0.001, 0.001), 100 Points\n"
     ]
    },
    {
     "data": {
      "text/plain": [
       "'+'"
      ]
     },
     "metadata": {},
     "output_type": "display_data"
    },
    {
     "name": "stdout",
     "output_type": "stream",
     "text": [
      "R=28.38 ohm\n",
      "\n"
     ]
    }
   ],
   "source": [
    "%matplotlib agg\n",
    "%matplotlib agg\n",
    "\n",
    "for i in range(4):\n",
    "    clear_output(wait=True)\n",
    "\n",
    "    start=['+']+['_' for x in range(29)]\n",
    "    prog_bar=display('',display_id=True)\n",
    "    \n",
    "    for j in range(3600):\n",
    "        if datetime.datetime.now().time().minute%5 == 0: break        \n",
    "        if j%30==0:\n",
    "            progress=start[:]\n",
    "        progress[j%30]='+'\n",
    "        \n",
    "        prog_bar.update(datetime.datetime.now().strftime(\"%H:%M\")+' '+''.join(progress))\n",
    "        sleep(1)\n",
    "\n",
    "    print(f\"Measurement: {i+1}\")\n",
    "    start=datetime.datetime.now().strftime(\"%y%m%d %H-%M\")\n",
    "    \n",
    "    for n, Chn in enumerate(ChnSelect):\n",
    "        clear_output(wait=True)\n",
    "        print(f\"Chn{n+1} measure: {Chn}\")\n",
    "        if Chn:\n",
    "            printf(f\"Measuring {ChnPrefix[n]}, ptype: {ptype[n]}       {datetime.datetime.now().strftime('%y/%m/%d %H:%M:%S')}\", start, True)\n",
    "            INO.opench(n+1)\n",
    "            loop(HP, ChnPrefix[n], ptype[n], start)\n",
    "            printf('', start, True)\n",
    "\n",
    "    HP.reset()\n",
    "    \n",
    "    INO.opench(6)\n",
    "    \n",
    "    path=f'C:/Users/Zucchi/Documents/Medidas/Rampup/short - {start}.csv'\n",
    "    printf(f\"Measuring short \\n\", start, True)\n",
    "    now=datetime.datetime.now().strftime(\"%H%M\")\n",
    "    printf(f\"{now} : Parameters short\\n (-1e-3, 1e-3, 100 points)\\n\", start)\n",
    "    HP.Set2P(-1e-3, 1e-3, 100)\n",
    "    HP.Var2Name=None\n",
    "    HP.Var2=None\n",
    "    HP.SetIntTime(\"SHOR\")\n",
    "    HP.SingleSave(path)\n",
    "    R=Plot2P(path)\n",
    "    printf(f\"R={format(R, '.2f')} ohm\\n\", start, True)"
   ]
  },
  {
   "cell_type": "code",
   "execution_count": 4,
   "id": "d8352510-f52b-4b04-8558-c3de166e132b",
   "metadata": {},
   "outputs": [
    {
     "name": "stdout",
     "output_type": "stream",
     "text": [
      "Chn1 measure: True\n"
     ]
    },
    {
     "ename": "UnboundLocalError",
     "evalue": "cannot access local variable 'path' where it is not associated with a value",
     "output_type": "error",
     "traceback": [
      "\u001b[1;31m---------------------------------------------------------------------------\u001b[0m",
      "\u001b[1;31mUnboundLocalError\u001b[0m                         Traceback (most recent call last)",
      "Cell \u001b[1;32mIn[4], line 26\u001b[0m\n\u001b[0;32m     24\u001b[0m \u001b[38;5;28mprint\u001b[39m(\u001b[38;5;124mf\u001b[39m\u001b[38;5;124m\"\u001b[39m\u001b[38;5;124mChn\u001b[39m\u001b[38;5;132;01m{\u001b[39;00mn\u001b[38;5;241m+\u001b[39m\u001b[38;5;241m1\u001b[39m\u001b[38;5;132;01m}\u001b[39;00m\u001b[38;5;124m measure: \u001b[39m\u001b[38;5;132;01m{\u001b[39;00mChn\u001b[38;5;132;01m}\u001b[39;00m\u001b[38;5;124m\"\u001b[39m)\n\u001b[0;32m     25\u001b[0m \u001b[38;5;28;01mif\u001b[39;00m Chn:\n\u001b[1;32m---> 26\u001b[0m     \u001b[43mprintf\u001b[49m\u001b[43m(\u001b[49m\u001b[38;5;124;43mf\u001b[39;49m\u001b[38;5;124;43m\"\u001b[39;49m\u001b[38;5;124;43mMeasuring \u001b[39;49m\u001b[38;5;132;43;01m{\u001b[39;49;00m\u001b[43mChnPrefix\u001b[49m\u001b[43m[\u001b[49m\u001b[43mn\u001b[49m\u001b[43m]\u001b[49m\u001b[38;5;132;43;01m}\u001b[39;49;00m\u001b[38;5;124;43m, ptype: \u001b[39;49m\u001b[38;5;132;43;01m{\u001b[39;49;00m\u001b[43mptype\u001b[49m\u001b[43m[\u001b[49m\u001b[43mn\u001b[49m\u001b[43m]\u001b[49m\u001b[38;5;132;43;01m}\u001b[39;49;00m\u001b[38;5;124;43m       \u001b[39;49m\u001b[38;5;132;43;01m{\u001b[39;49;00m\u001b[43mdatetime\u001b[49m\u001b[38;5;241;43m.\u001b[39;49m\u001b[43mdatetime\u001b[49m\u001b[38;5;241;43m.\u001b[39;49m\u001b[43mnow\u001b[49m\u001b[43m(\u001b[49m\u001b[43m)\u001b[49m\u001b[38;5;241;43m.\u001b[39;49m\u001b[43mstrftime\u001b[49m\u001b[43m(\u001b[49m\u001b[38;5;124;43m'\u001b[39;49m\u001b[38;5;124;43m%\u001b[39;49m\u001b[38;5;124;43my/\u001b[39;49m\u001b[38;5;124;43m%\u001b[39;49m\u001b[38;5;124;43mm/\u001b[39;49m\u001b[38;5;132;43;01m%d\u001b[39;49;00m\u001b[38;5;124;43m \u001b[39;49m\u001b[38;5;124;43m%\u001b[39;49m\u001b[38;5;124;43mH:\u001b[39;49m\u001b[38;5;124;43m%\u001b[39;49m\u001b[38;5;124;43mM:\u001b[39;49m\u001b[38;5;124;43m%\u001b[39;49m\u001b[38;5;124;43mS\u001b[39;49m\u001b[38;5;124;43m'\u001b[39;49m\u001b[43m)\u001b[49m\u001b[38;5;132;43;01m}\u001b[39;49;00m\u001b[38;5;124;43m\"\u001b[39;49m\u001b[43m,\u001b[49m\u001b[43m \u001b[49m\u001b[43mstart\u001b[49m\u001b[43m,\u001b[49m\u001b[43m \u001b[49m\u001b[38;5;28;43;01mTrue\u001b[39;49;00m\u001b[43m)\u001b[49m\n\u001b[0;32m     27\u001b[0m     INO\u001b[38;5;241m.\u001b[39mopench(n\u001b[38;5;241m+\u001b[39m\u001b[38;5;241m1\u001b[39m)\n\u001b[0;32m     28\u001b[0m     loop(HP, ChnPrefix[n], ptype[n], start)\n",
      "File \u001b[1;32m~\\Jupyter\\HPIB\\Modules\\loop.py:16\u001b[0m, in \u001b[0;36mprintf\u001b[1;34m(msg, start, output)\u001b[0m\n\u001b[0;32m     14\u001b[0m \u001b[38;5;28;01mdef\u001b[39;00m \u001b[38;5;21mprintf\u001b[39m(msg, start, output\u001b[38;5;241m=\u001b[39m\u001b[38;5;28;01mFalse\u001b[39;00m):\n\u001b[1;32m---> 16\u001b[0m     os\u001b[38;5;241m.\u001b[39mmakedirs(\u001b[43mpath\u001b[49m, exist_ok\u001b[38;5;241m=\u001b[39m\u001b[38;5;28;01mTrue\u001b[39;00m)\n\u001b[0;32m     18\u001b[0m     path\u001b[38;5;241m+\u001b[39m\u001b[38;5;241m=\u001b[39m\u001b[38;5;124mf\u001b[39m\u001b[38;5;124m\"\u001b[39m\u001b[38;5;124m/log.txt\u001b[39m\u001b[38;5;124m\"\u001b[39m\n\u001b[0;32m     20\u001b[0m     \u001b[38;5;28;01mwith\u001b[39;00m \u001b[38;5;28mopen\u001b[39m(path, \u001b[38;5;124m'\u001b[39m\u001b[38;5;124ma\u001b[39m\u001b[38;5;124m'\u001b[39m) \u001b[38;5;28;01mas\u001b[39;00m the_file:\n",
      "\u001b[1;31mUnboundLocalError\u001b[0m: cannot access local variable 'path' where it is not associated with a value"
     ]
    }
   ],
   "source": [
    "%matplotlib agg\n",
    "%matplotlib agg\n",
    "\n",
    "for i in range(10):\n",
    "    clear_output(wait=True)\n",
    "\n",
    "    start=['+']+['_' for x in range(29)]\n",
    "    prog_bar=display('',display_id=True)\n",
    "    \n",
    "    for j in range(3600):\n",
    "        if datetime.datetime.now().time().minute%15 == 0: break        \n",
    "        if j%30==0:\n",
    "            progress=start[:]\n",
    "        progress[j%30]='+'\n",
    "        \n",
    "        prog_bar.update(datetime.datetime.now().strftime(\"%H:%M\")+' '+''.join(progress))\n",
    "        sleep(1)\n",
    "\n",
    "    print(f\"Measurement: {i+1}\")\n",
    "    start=datetime.datetime.now().strftime(\"%y%m%d %H-%M\")\n",
    "    \n",
    "    for n, Chn in enumerate(ChnSelect):\n",
    "        clear_output(wait=True)\n",
    "        print(f\"Chn{n+1} measure: {Chn}\")\n",
    "        if Chn:\n",
    "            printf(f\"Measuring {ChnPrefix[n]}, ptype: {ptype[n]}       {datetime.datetime.now().strftime('%y/%m/%d %H:%M:%S')}\", start, True)\n",
    "            INO.opench(n+1)\n",
    "            loop(HP, ChnPrefix[n], ptype[n], start)\n",
    "            printf('', start, True)\n",
    "\n",
    "    HP.reset()\n",
    "    \n",
    "    INO.opench(6)\n",
    "    \n",
    "    path=f'C:/Users/Zucchi/Documents/Medidas/Rampup/{start}.csv'\n",
    "    printf(f\"Measuring short \\n\", start, True)\n",
    "    now=datetime.datetime.now().strftime(\"%H%M\")\n",
    "    printf(f\"{now} : Parameters short\\n (-1e-3, 1e-3, 100 points)\\n\", start)\n",
    "    HP.Set2P(-1e-3, 1e-3, 100)\n",
    "    HP.Var2Name=None\n",
    "    HP.Var2=None\n",
    "    HP.SetIntTime(\"SHOR\")\n",
    "    HP.SingleSave(path)\n",
    "    R=Plot2P(path)\n",
    "    printf(f\"R={format(R, '.2f')} ohm\\n\", start, True)"
   ]
  },
  {
   "cell_type": "code",
   "execution_count": null,
   "id": "dcc44051-fda5-4be9-8104-b16a531b950a",
   "metadata": {},
   "outputs": [],
   "source": []
  }
 ],
 "metadata": {
  "kernelspec": {
   "display_name": "Python 3 (ipykernel)",
   "language": "python",
   "name": "python3"
  },
  "language_info": {
   "codemirror_mode": {
    "name": "ipython",
    "version": 3
   },
   "file_extension": ".py",
   "mimetype": "text/x-python",
   "name": "python",
   "nbconvert_exporter": "python",
   "pygments_lexer": "ipython3",
   "version": "3.11.4"
  }
 },
 "nbformat": 4,
 "nbformat_minor": 5
}
