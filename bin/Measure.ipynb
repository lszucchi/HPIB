{
 "cells": [
  {
   "cell_type": "code",
   "execution_count": 1,
   "id": "7b94a4f2-d90e-4be7-9678-247553fc0675",
   "metadata": {
    "slideshow": {
     "slide_type": ""
    },
    "tags": []
   },
   "outputs": [],
   "source": [
    "%load_ext autoreload\n",
    "%autoreload 2\n",
    "%matplotlib agg\n",
    "\n",
    "import sys\n",
    "sys.path.append(\"../modules\")\n",
    "\n",
    "from loop import *"
   ]
  },
  {
   "cell_type": "code",
   "execution_count": 2,
   "id": "4000c6b8-3585-48e1-9095-6cc041a3de67",
   "metadata": {},
   "outputs": [],
   "source": [
    "path='C:/Users/Zucchi/Documents/Medidas/240704 - TN1 TN9 TP6 TP10/'"
   ]
  },
  {
   "cell_type": "code",
   "execution_count": 3,
   "id": "3cddbfed-3bbb-41e3-9ba3-11042e133573",
   "metadata": {},
   "outputs": [
    {
     "name": "stdout",
     "output_type": "stream",
     "text": [
      "HEWLETT-PACKARD,4155A,0,01.04:01.04:01.00\n"
     ]
    },
    {
     "data": {
      "text/plain": [
       "0"
      ]
     },
     "execution_count": 3,
     "metadata": {},
     "output_type": "execute_result"
    }
   ],
   "source": [
    "INO=Arduino('COM3')\n",
    "HP=HP4155('GPIB0::17', debug=False)\n",
    "HP.SetIntTime(\"MED\")"
   ]
  },
  {
   "cell_type": "code",
   "execution_count": 33,
   "id": "9da06a79-55bb-4bef-9992-382c06ac2f18",
   "metadata": {},
   "outputs": [
    {
     "name": "stdout",
     "output_type": "stream",
     "text": [
      "1\n",
      "\n",
      "Measurement: 240705 143223\n",
      "Open INO: ch6\n",
      "Set IdxVgs\n",
      "Vg=(0, 1.5, 0.01), Vd=0.025, Ilim=0.001\n"
     ]
    }
   ],
   "source": [
    "freq=1\n",
    "count=1\n",
    "\n",
    "HP.SetIntTime(\"SHOR\")\n",
    "\n",
    "for i in range(count):\n",
    "\n",
    "    prog_bar=display('',display_id=True)\n",
    "    \n",
    "    while datetime.datetime.now().time().minute%freq:       \n",
    "        prog_bar.update(datetime.datetime.now().strftime(\"%H:%M:%S\"))\n",
    "        sleep(1)\n",
    "    clear_output(wait=True)\n",
    "    \n",
    "    start=datetime.datetime.now().strftime(\"%y%m%d %H%M%S\")\n",
    "    print(i+1)\n",
    "    printf(f\"\\nMeasurement: {start}\", path)\n",
    "\n",
    "    plt.close('all')\n",
    "\n",
    "    HP.SetStop(\"OFF\")\n",
    "\n",
    "    INO.opench(1)\n",
    "    # printf(f\"Chn{1} - TP7\", path)\n",
    "    # pathp=path+'TN1'\n",
    "    # os.makedirs(pathp, exist_ok=True)\n",
    "\n",
    "    # HP.SetVgs(0, -1.5, -0.025, -0.025)\n",
    "    # LIN = PlotVgs(HP.SingleSave(f'{pathp}/IdVgs - {start}.csv', timeout=30))\n",
    "    # printf(f'Vth= {LIN} V', path)\n",
    "\n",
    "    # HP.SetVgs(0, 1.5, 0.01, 1.5)\n",
    "    # LIN = PlotVgs(HP.SingleSave(f'{pathp}/IdVgsSat - {start}.csv', timeout=30))\n",
    "    # printf(f'Vth= {LIN} V', path)\n",
    "\n",
    "    # HP.SetEx_Is(0.5, 0, -0.025, 0.7, 0.8, 0.05, 0.7)\n",
    "    # Is=CalcIs(HP.SingleSave(f'{pathp}/ExIs - {start}.csv', timeout=30), 300)\n",
    "    # printf(f'Is= {Is} V', path)\n",
    "    \n",
    "    # HP.SetVp(Is, 0, LIN+0.3, 0.01)\n",
    "    # VTO=PlotVp(HP.SingleSave(f'{pathp}/VpVg - {start}.csv', timeout=30))\n",
    "    # printf(f'VTO= {VTO} V', path)\n",
    "\n",
    "    # HP.SetVds(0, 1.5, 0.01, 0.6, 1.2, 0.2)\n",
    "    # Plot(HP.SingleSave(f'{pathp}/IdVds - {start}.csv', timeout=30), 'Vd', 'Id')\n",
    "\n",
    "    # INO.opench(5)\n",
    "    # printf(f\"Chn{4} - TP6\", path)\n",
    "    # pathp=path+'TN12'\n",
    "    # os.makedirs(pathp, exist_ok=True)\n",
    "    \n",
    "    # HP.SetVgs(0, -1.5, -0.025, 0.025)\n",
    "    # LIN = PlotVgs(HP.SingleSave(f'{pathp}/IdVgs - {start}.csv', timeout=30))\n",
    "    # printf(f'Vth= {LIN} V', path)\n",
    "\n",
    "    # HP.SetVgs(0, 1.5, 0.01, 1.5)\n",
    "    # LIN = PlotVgs(HP.SingleSave(f'{pathp}/IdVgsSat - {start}.csv', timeout=30))\n",
    "    # printf(f'Vth= {LIN} V', path)\n",
    "\n",
    "    # HP.SetEx_Is(0.5, 0, -0.025, 0.7, 0.8, 0.05, 0.7)\n",
    "    # Is=CalcIs(HP.SingleSave(f'{pathp}/ExIs - {start}.csv', timeout=30), 300)\n",
    "    # printf(f'Is= {Is} V', path)\n",
    "\n",
    "    # HP.SetVp(Is, 0, LIN+0.3, 0.01)\n",
    "    # VTO=PlotVp(HP.SingleSave(f'{pathp}/VpVg - {start}.csv', timeout=30))\n",
    "    # printf(f'VTO= {VTO} V', path)\n",
    "\n",
    "    # HP.SetVds(0, 1.5, 0.01, 0.6, 1.2, 0.2)\n",
    "    # Plot(HP.SingleSave(f'{pathp}/IdVds - {start}.csv', timeout=30), 'Vd', 'Id')\n",
    "\n",
    "    # INO.opench(6)\n",
    "    # printf(f\"Chn{6} - TN9\", path)\n",
    "    # pathp=path+'TN12'\n",
    "    # os.makedirs(pathp, exist_ok=True)\n",
    "    \n",
    "    # HP.SetVgs(0, -1.5, -0.025, 0.025)\n",
    "    # LIN = PlotVgs(HP.SingleSave(f'{pathp}/IdVgs - {start}.csv', timeout=30))\n",
    "    # printf(f'Vth= {LIN} V', path)\n",
    "\n",
    "    # HP.SetVgs(0, 1.5, 0.01, 1.5)\n",
    "    # LIN = PlotVgs(HP.SingleSave(f'{pathp}/IdVgsSat - {start}.csv', timeout=30))\n",
    "    # printf(f'Vth= {LIN} V', path)\n",
    "\n",
    "    # HP.SetEx_Is(0.5, 0, -0.025, 0.7, 0.8, 0.05, 0.7)\n",
    "    # Is=CalcIs(HP.SingleSave(f'{pathp}/ExIs - {start}.csv', timeout=30), 300)\n",
    "    # printf(f'Is= {Is} V', path)\n",
    "\n",
    "    # HP.SetVp(Is, 0, LIN+0.3, 0.01)\n",
    "    # VTO=PlotVp(HP.SingleSave(f'{pathp}/VpVg - {start}.csv', timeout=30))\n",
    "    # printf(f'VTO= {VTO} V', path)\n",
    "\n",
    "    # HP.SetVds(0, 1.5, 0.01, 0.6, 1.2, 0.2)\n",
    "    # Plot(HP.SingleSave(f'{pathp}/IdVds - {start}.csv', timeout=30), 'Vd', 'Id')\n",
    "\n",
    "    # HP.SetStop(\"COMP\")\n",
    "\n",
    "    # INO.opench(3)\n",
    "    # printf(f\"Chn{3} - DP2\", path)\n",
    "    # pathp=path+'DN2'\n",
    "    # os.makedirs(pathp, exist_ok=True)\n",
    "\n",
    "    # HP.SingleDiode(-0.5, 1.5, 0.01, SMUN='SMU1', SMUP='SMU2', Comp=0.5e-3)\n",
    "    # Plot(HP.SingleSave(f'{pathp}/{start}.csv', timeout=30, real=True), 'Vf', 'If')\n",
    "\n",
    "    # INO.opench(4)\n",
    "    # printf(f\"Chn{4} - DP1\", path)\n",
    "    # pathp=path+'DN1'\n",
    "    # os.makedirs(pathp, exist_ok=True)\n",
    "\n",
    "    # HP.SingleDiode(-0.5, 1.5, 0.01, SMUN='SMU1', SMUP='SMU2', Comp=0.5e-3)\n",
    "    # Plot(HP.SingleSave(f'{pathp}/{start}.csv', timeout=30, real=True), 'Vf', 'If')\n",
    "    \n",
    "    # HP.SetStop(\"OFF\")\n",
    "\n",
    "    # INO.opench(2)\n",
    "    # printf(f\"Chn{2} - CB1\", path)\n",
    "    # pathp=path+'CB1'\n",
    "    # os.makedirs(pathp, exist_ok=True)\n",
    "\n",
    "    # HP.Set2P(-0.5e-3, 0.5e-3, 200, SMUN='SMU1', SMUP='SMU2', Comp=4)\n",
    "    # Rshort=Plot2P(HP.SingleSave(f'{pathp}/{start}.csv', timeout=30))\n",
    "\n",
    "    # printf(f\"Rshort={format(Rshort, '.2f')}\", path)"
   ]
  },
  {
   "cell_type": "code",
   "execution_count": 71,
   "id": "abec678b-18a6-475a-94f6-cf9911fc05a0",
   "metadata": {},
   "outputs": [
    {
     "name": "stdin",
     "output_type": "stream",
     "text": [
      " 3\n"
     ]
    },
    {
     "name": "stdout",
     "output_type": "stream",
     "text": [
      "Open INO: ch3\n"
     ]
    }
   ],
   "source": [
    "INO.opench(int(input()))\n",
    "# HP.SetDiode(-1.4, 1.4, 0.05)\n",
    "\n",
    "# HP.SetVgs(0, 1.5, 0.05, 0.025)\n",
    "# HP.SetVgs(0, -1.5, -0.01, -0.025)"
   ]
  },
  {
   "cell_type": "code",
   "execution_count": 62,
   "id": "e26828b3-8d2f-4db2-84dd-537ded7af9ca",
   "metadata": {},
   "outputs": [
    {
     "name": "stdout",
     "output_type": "stream",
     "text": [
      "Open INO: ch3\n",
      "Chn3 - DN1\n",
      "Set Diode\n",
      "Vf=(-0.5, 1.5)\n"
     ]
    },
    {
     "data": {
      "text/plain": [
       "0"
      ]
     },
     "execution_count": 62,
     "metadata": {},
     "output_type": "execute_result"
    }
   ],
   "source": [
    "INO.opench(3)\n",
    "printf(f\"Chn{3} - DN1\", path)\n",
    "pathp=path+'DN1'\n",
    "os.makedirs(pathp, exist_ok=True)\n",
    "\n",
    "HP.SingleDiode(-0.5, 1.5, 0.01, SMUN='SMU1', SMUP='SMU2', Comp=0.5e-3)"
   ]
  },
  {
   "cell_type": "code",
   "execution_count": null,
   "id": "debf9c1b-af75-4722-a2a7-f7a5f087f747",
   "metadata": {},
   "outputs": [],
   "source": [
    "HP.close()\n",
    "INO.opench(0)\n",
    "INO.close() "
   ]
  }
 ],
 "metadata": {
  "kernelspec": {
   "display_name": "Python 3 (ipykernel)",
   "language": "python",
   "name": "python3"
  },
  "language_info": {
   "codemirror_mode": {
    "name": "ipython",
    "version": 3
   },
   "file_extension": ".py",
   "mimetype": "text/x-python",
   "name": "python",
   "nbconvert_exporter": "python",
   "pygments_lexer": "ipython3",
   "version": "3.11.4"
  }
 },
 "nbformat": 4,
 "nbformat_minor": 5
}
