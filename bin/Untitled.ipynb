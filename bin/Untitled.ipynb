{
 "cells": [
  {
   "cell_type": "code",
   "execution_count": 3,
   "id": "e3e33f88-24f3-4ee3-915b-bb202e31ec26",
   "metadata": {},
   "outputs": [
    {
     "name": "stdout",
     "output_type": "stream",
     "text": [
      "The autoreload extension is already loaded. To reload it, use:\n",
      "  %reload_ext autoreload\n"
     ]
    }
   ],
   "source": [
    "%load_ext autoreload\n",
    "%autoreload 2\n",
    "\n",
    "import pandas as pd\n",
    "import numpy as np\n",
    "import matplotlib.pyplot as plt\n",
    "    \n",
    "import sys\n",
    "sys.path.append(\"../modules\")\n",
    "sys.path.append(\"C:/Users/Zucchi/Jupyter/BFmodule\")\n",
    "sys.path.append(\"C:/Users/Zucchi/Jupyter/YFunc\")\n",
    "    \n",
    "from HPIB_plot import Plot, PlotVgs, PlotVp, CalcIsSat, SecDer, Plot2P\n",
    "from BFmodule import DR, DEVICE_IP, PORT, ApiKey\n",
    "from yfunc import YFuncExtraction\n",
    "from YFunctionGiovanni import YF\n",
    "from DevParams import UMC\n",
    "from os import listdir"
   ]
  },
  {
   "cell_type": "code",
   "execution_count": 5,
   "id": "7696cd2b-1e4b-4701-9cfa-fc0349647b9f",
   "metadata": {},
   "outputs": [
    {
     "name": "stdout",
     "output_type": "stream",
     "text": [
      "Elsa v2.4.2\n"
     ]
    }
   ],
   "source": [
    "Elsa=DR(DEVICE_IP, PORT, ApiKey)"
   ]
  },
  {
   "cell_type": "code",
   "execution_count": null,
   "id": "c2b8bc57-955e-4289-9bbd-d8e45f7654f2",
   "metadata": {},
   "outputs": [],
   "source": []
  }
 ],
 "metadata": {
  "kernelspec": {
   "display_name": "Python 3 (ipykernel)",
   "language": "python",
   "name": "python3"
  },
  "language_info": {
   "codemirror_mode": {
    "name": "ipython",
    "version": 3
   },
   "file_extension": ".py",
   "mimetype": "text/x-python",
   "name": "python",
   "nbconvert_exporter": "python",
   "pygments_lexer": "ipython3",
   "version": "3.11.4"
  }
 },
 "nbformat": 4,
 "nbformat_minor": 5
}
