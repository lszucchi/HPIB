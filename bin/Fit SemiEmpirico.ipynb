{
 "cells": [
  {
   "cell_type": "code",
   "execution_count": 4,
   "id": "2b7976b1-15f5-48e1-acca-681ae604c912",
   "metadata": {},
   "outputs": [],
   "source": [
    "%load_ext autoreload\n",
    "%autoreload 2\n",
    "\n",
    "import pandas as pd\n",
    "import numpy as np\n",
    "import matplotlib.pyplot as plt\n",
    "\n",
    "import sys\n",
    "sys.path.append(\"../modules\")\n",
    "\n",
    "from HPIB_plot import *\n",
    "from scipy.constants import e, k\n",
    "from scipy.special import lambertw\n",
    "from scipy.optimize import least_squares"
   ]
  },
  {
   "cell_type": "code",
   "execution_count": 5,
   "id": "e63c5210-08f9-4e90-9137-1586716a992d",
   "metadata": {},
   "outputs": [],
   "source": [
    "path='C:/Users/Zucchi/Documents/Medidas/240704 - TN10 TP6 TP7 DP1 DP2/TP7/IdVgs - 240706 1523.csv'"
   ]
  },
  {
   "cell_type": "code",
   "execution_count": null,
   "id": "a08aabe9-2ce1-4534-89ad-687bfa95ad12",
   "metadata": {},
   "outputs": [],
   "source": []
  }
 ],
 "metadata": {
  "kernelspec": {
   "display_name": "Python 3 (ipykernel)",
   "language": "python",
   "name": "python3"
  },
  "language_info": {
   "codemirror_mode": {
    "name": "ipython",
    "version": 3
   },
   "file_extension": ".py",
   "mimetype": "text/x-python",
   "name": "python",
   "nbconvert_exporter": "python",
   "pygments_lexer": "ipython3",
   "version": "3.11.4"
  }
 },
 "nbformat": 4,
 "nbformat_minor": 5
}
