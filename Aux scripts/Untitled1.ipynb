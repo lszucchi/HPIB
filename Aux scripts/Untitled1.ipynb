{
 "cells": [
  {
   "cell_type": "code",
   "execution_count": 1,
   "id": "396bf6b3-09de-4791-88af-b03154076794",
   "metadata": {},
   "outputs": [],
   "source": [
    "import pandas as pd\n",
    "import numpy as np\n",
    "import matplotlib.pyplot as plt\n",
    "import datetime\n",
    "from time import sleep\n",
    "\n",
    "from IPython.display import clear_output, display, display_markdown"
   ]
  },
  {
   "cell_type": "code",
   "execution_count": null,
   "id": "1d206ad0-5181-46ac-ad3f-a54b178d3ecd",
   "metadata": {},
   "outputs": [
    {
     "data": {
      "text/plain": [
       "'22:07 ++++++++++++++++______________'"
      ]
     },
     "metadata": {},
     "output_type": "display_data"
    }
   ],
   "source": [
    "start=['+']+['_' for x in range(29)]\n",
    "prog_bar=display('', display_id=True)\n",
    "\n",
    "for j in range(3600):\n",
    "    if datetime.datetime.now().time().minute%15 == 0: break        \n",
    "    if j%30==0:\n",
    "        progress=start[:]\n",
    "    progress[j%30]='+'\n",
    "    \n",
    "    prog_bar.update(datetime.datetime.now().strftime(\"%H:%M\")+' '+''.join(progress))\n",
    "    sleep(1)"
   ]
  },
  {
   "cell_type": "code",
   "execution_count": null,
   "id": "eebb7124-28b8-4212-930f-047f62b6fd5a",
   "metadata": {},
   "outputs": [],
   "source": []
  }
 ],
 "metadata": {
  "kernelspec": {
   "display_name": "Python 3 (ipykernel)",
   "language": "python",
   "name": "python3"
  },
  "language_info": {
   "codemirror_mode": {
    "name": "ipython",
    "version": 3
   },
   "file_extension": ".py",
   "mimetype": "text/x-python",
   "name": "python",
   "nbconvert_exporter": "python",
   "pygments_lexer": "ipython3",
   "version": "3.11.4"
  }
 },
 "nbformat": 4,
 "nbformat_minor": 5
}
