{
 "cells": [
  {
   "cell_type": "code",
   "execution_count": 1,
   "id": "85fab50b-2772-4ed4-b04d-e54782380e32",
   "metadata": {},
   "outputs": [],
   "source": [
    "import sys\n",
    "sys.path.append(\"../modules\")\n",
    "\n",
    "from INOSerial import *\n",
    "\n",
    "INO=Arduino('COM3')"
   ]
  },
  {
   "cell_type": "code",
   "execution_count": 4,
   "id": "96e7c14d-6efa-4997-8c8b-ddc0607089ee",
   "metadata": {},
   "outputs": [
    {
     "name": "stdin",
     "output_type": "stream",
     "text": [
      " 1\n"
     ]
    },
    {
     "name": "stdout",
     "output_type": "stream",
     "text": [
      "Open INO: ch1\n",
      "\n"
     ]
    }
   ],
   "source": [
    "INO.opench(int(input()))"
   ]
  },
  {
   "cell_type": "code",
   "execution_count": 3,
   "id": "c6ba95b2-0961-463e-a2da-39c4632fd001",
   "metadata": {},
   "outputs": [
    {
     "data": {
      "text/plain": [
       "1"
      ]
     },
     "execution_count": 3,
     "metadata": {},
     "output_type": "execute_result"
    }
   ],
   "source": [
    "INO.inst.write('*'.encode())"
   ]
  },
  {
   "cell_type": "code",
   "execution_count": 4,
   "id": "402e8626-224a-4493-9332-c9abf87ebc32",
   "metadata": {},
   "outputs": [
    {
     "data": {
      "text/plain": [
       "b'InoMatrix\\n'"
      ]
     },
     "execution_count": 4,
     "metadata": {},
     "output_type": "execute_result"
    }
   ],
   "source": [
    "INO.inst.readline()"
   ]
  },
  {
   "cell_type": "code",
   "execution_count": 3,
   "id": "c0fbf430-1f13-4223-aedd-875141e4be02",
   "metadata": {},
   "outputs": [
    {
     "data": {
      "text/plain": [
       "'InoMatrix\\n'"
      ]
     },
     "execution_count": 3,
     "metadata": {},
     "output_type": "execute_result"
    }
   ],
   "source": [
    "INO.ask('*'.encode())"
   ]
  },
  {
   "cell_type": "code",
   "execution_count": null,
   "id": "6765d864-ea22-4c69-a1f4-cd9f3c6e26e3",
   "metadata": {},
   "outputs": [],
   "source": [
    "INO.close()"
   ]
  },
  {
   "cell_type": "code",
   "execution_count": null,
   "id": "b18a4cfa-0086-49f1-aeae-7d3c165e6d4d",
   "metadata": {},
   "outputs": [],
   "source": [
    "del INO"
   ]
  }
 ],
 "metadata": {
  "kernelspec": {
   "display_name": "Python 3 (ipykernel)",
   "language": "python",
   "name": "python3"
  },
  "language_info": {
   "codemirror_mode": {
    "name": "ipython",
    "version": 3
   },
   "file_extension": ".py",
   "mimetype": "text/x-python",
   "name": "python",
   "nbconvert_exporter": "python",
   "pygments_lexer": "ipython3",
   "version": "3.11.4"
  }
 },
 "nbformat": 4,
 "nbformat_minor": 5
}
