{
 "cells": [
  {
   "cell_type": "code",
   "execution_count": 104,
   "id": "2b7976b1-15f5-48e1-acca-681ae604c912",
   "metadata": {},
   "outputs": [
    {
     "data": {
      "image/png": "[encoded data removed]",
      "text/plain": [
       "<Figure size 640x480 with 1 Axes>"
      ]
     },
     "metadata": {},
     "output_type": "display_data"
    }
   ],
   "source": [
    "import pandas as pd\n",
    "import numpy as np\n",
    "import matplotlib.pyplot as plt\n",
    "\n",
    "def getpd(df, trace):\n",
    "    return df[trace][df[trace].columns[0]].to_numpy()\n",
    "\n",
    "path='C:/Users/Zucchi/Documents/Medidas/CH4/231113/Ex_Is-231113 013401.csv'\n",
    "\n",
    "df=pd.read_csv(path, header=[0, 1])\n",
    "\n",
    "try: VG=[np.around(float(x), 2) for x in df.columns.levels[1][1:]]\n",
    "except: VG=[np.around(float(x), 2) for x in df.columns.levels[1][:-1]]\n",
    "VS=df['VS'][df['VS'].columns[0]].to_numpy()\n",
    "ID=df['ID'].to_numpy()\n",
    "\n",
    "VS=-VS\n",
    "ID=-ID\n",
    "\n",
    "slope=[]\n",
    "\n",
    "fig, ax=plt.subplots()\n",
    "\n",
    "for n, Y in enumerate(ID.T[-3:]):\n",
    "\n",
    "    ax.plot(VS, Y, label=VG[n])\n",
    "    \n",
    "    y=Y\n",
    "    y=y[y>np.max(y)/(2+0.5*n)]\n",
    "    x=VS[:len(y)]\n",
    "    \n",
    "    ax.plot(x, y, '--')\n",
    "    m, b= np.polyfit(x, y, 1)\n",
    "    # ax.plot(VS[:len(x)], np.polyval([m, b], VS[:len(x)]))\n",
    "    slope+=[m]\n",
    "\n",
    "\n",
    "# VS=np.abs(getpd(df, 'VS'))\n",
    "# ID=np.abs(getpd(df, 'ID'))\n",
    "\n",
    "# gms=np.diff(ID)/np.diff(VS)\n",
    "# gms=np.abs(np.concatenate(([gms[0]], gms)))\n",
    "\n",
    "# y=gms*25e-3*(3.2/300)/ID\n",
    "\n",
    "# yfit=np.log10(y[:20])\n",
    "# idfit=np.log10(ID[:20])\n",
    "\n",
    "# m, b= np.polyfit(idfit, yfit, 1)\n",
    "\n",
    "# print(10**((0.1-b)/m))\n",
    "\n",
    "# plt.loglog(ID[:30], y[:30], 10**idfit, 10**yfit)"
   ]
  },
  {
   "cell_type": "code",
   "execution_count": 98,
   "id": "55313179-54c7-4415-860e-b32dd73657f8",
   "metadata": {},
   "outputs": [],
   "source": [
    "VS=df['VS'].to_numpy()\n",
    "ID=df['ID'].to_numpy()"
   ]
  },
  {
   "cell_type": "code",
   "execution_count": 101,
   "id": "3c3acb23-ad75-435c-b375-d7175f203fe7",
   "metadata": {},
   "outputs": [
    {
     "data": {
      "text/plain": [
       "array([-1.13722e-06, -1.07554e-06, -1.01593e-06, -9.58242e-07,\n",
       "       -9.03667e-07, -8.51030e-07, -7.99236e-07, -7.48945e-07,\n",
       "       -6.99175e-07, -6.50131e-07, -6.02756e-07, -5.58345e-07,\n",
       "       -5.15266e-07, -4.74209e-07, -4.36724e-07, -4.01118e-07,\n",
       "       -3.66848e-07, -3.35753e-07, -3.06398e-07, -2.78681e-07,\n",
       "       -2.51497e-07, -2.25426e-07, -2.01124e-07, -1.78636e-07,\n",
       "       -1.57683e-07, -1.37737e-07, -1.18570e-07, -1.01891e-07,\n",
       "       -8.79170e-08, -7.50280e-08, -6.24181e-08, -5.08432e-08,\n",
       "       -3.97870e-08, -2.95342e-08, -2.05843e-08, -1.34207e-08,\n",
       "       -6.39633e-09, -2.68831e-09, -1.47913e-09, -5.72780e-10,\n",
       "       -2.41480e-10, -9.86000e-11, -1.31600e-11, -6.78000e-12,\n",
       "       -9.30000e-13, -4.07000e-12, -5.30000e-13, -3.58000e-12,\n",
       "       -1.17000e-12, -2.35000e-12, -2.02000e-12, -1.76000e-12,\n",
       "       -3.34000e-12,  2.90000e-13, -3.69000e-12,  8.50000e-13,\n",
       "       -3.02000e-12,  4.10000e-13, -5.79000e-12,  2.30000e-13,\n",
       "       -3.13000e-12, -1.46000e-12, -1.87000e-12, -2.79000e-12,\n",
       "        7.70000e-13, -2.83000e-12,  5.70000e-13, -3.62000e-12,\n",
       "        2.50000e-13, -3.77000e-12,  8.00000e-14, -3.49000e-12,\n",
       "        1.63000e-12, -2.45000e-12, -1.00000e-14, -2.84000e-12,\n",
       "       -6.50000e-13, -1.54000e-12, -2.69000e-12, -1.76000e-12,\n",
       "       -3.25000e-12,  4.00000e-14, -2.93000e-12,  1.23000e-12,\n",
       "       -3.53000e-12,  1.00000e-12, -3.30000e-12,  1.80000e-13,\n",
       "       -3.27000e-12, -1.04000e-12, -1.95000e-12, -1.39000e-12,\n",
       "       -2.40000e-13, -2.65000e-12,  9.00000e-13, -3.40000e-12,\n",
       "        1.35000e-12, -3.54000e-12,  1.00000e-13, -3.22000e-12,\n",
       "       -1.40000e-12, -1.74000e-12, -2.86000e-12, -9.00000e-14,\n",
       "       -2.57000e-12,  7.50000e-13, -3.25000e-12,  4.70000e-13,\n",
       "       -3.64000e-12,  7.10000e-13, -3.30000e-12,  1.45000e-12,\n",
       "       -1.81000e-12, -8.30000e-13, -8.30000e-13, -2.31000e-12,\n",
       "        8.60000e-13, -3.48000e-12,  1.01000e-12, -3.34000e-12,\n",
       "        3.80000e-13, -2.01000e-12, -9.00000e-13, -4.52000e-12,\n",
       "        1.00000e-13,  5.85000e-12, -3.36000e-12,  1.06000e-12,\n",
       "       -3.56000e-12,  1.51000e-12, -2.84000e-12, -5.00000e-14,\n",
       "       -2.91000e-12, -5.90000e-13, -1.18000e-12, -2.49000e-12,\n",
       "       -5.00000e-14, -2.20000e-12,  8.10000e-13, -3.47000e-12,\n",
       "        5.70000e-13, -3.47000e-12,  6.00000e-13, -3.54000e-12,\n",
       "        2.00000e-14, -1.81000e-12, -1.33000e-12,  3.00000e-13,\n",
       "       -2.49000e-12,  8.90000e-13, -3.14000e-12,  1.08000e-12,\n",
       "       -3.17000e-12,  6.10000e-13, -3.03000e-12, -6.00000e-13,\n",
       "       -1.88000e-12, -7.60000e-13, -1.10000e-12, -1.46000e-12,\n",
       "       -5.90000e-13, -2.71000e-12, -1.22000e-12, -8.05000e-12,\n",
       "        9.12000e-12, -4.09000e-12, -2.60000e-12, -3.20000e-12,\n",
       "        1.17000e-12, -3.04000e-12,  1.27000e-12, -1.00000e-12,\n",
       "        2.50000e-13, -2.31000e-12, -1.22000e-12, -2.30000e-13,\n",
       "       -1.76000e-12,  9.90000e-13, -3.30000e-12,  1.82000e-12,\n",
       "       -3.02000e-12,  1.77000e-12, -3.30000e-12,  4.00000e-14,\n",
       "       -1.65000e-12, -1.62000e-12,  1.00000e-14, -1.94000e-12,\n",
       "        1.39000e-12, -3.05000e-12,  1.44000e-12, -3.06000e-12,\n",
       "        1.01000e-12, -3.09000e-12, -2.30000e-13, -1.54000e-12,\n",
       "       -1.17000e-12,  8.00000e-14, -2.29000e-12,  1.48000e-12,\n",
       "       -3.38000e-12,  1.70000e-12, -2.54000e-12,  5.10000e-13,\n",
       "       -3.83000e-12,  0.00000e+00, -1.19000e-12, -1.15000e-12,\n",
       "       -2.30000e-13, -1.65000e-12,  1.40000e-13, -2.60000e-12,\n",
       "       -1.40000e-13, -3.16000e-12,  9.80000e-13, -3.22000e-12,\n",
       "        1.39000e-12, -1.27000e-12,  8.10000e-13, -1.31000e-12,\n",
       "       -1.02000e-12,  3.00000e-13, -2.65000e-12,  1.90000e-13,\n",
       "       -3.12000e-12,  1.12000e-12, -3.14000e-12,  8.20000e-13,\n",
       "       -1.32000e-12, -5.40000e-13, -1.13000e-12, -1.25000e-12,\n",
       "       -2.30000e-13, -2.06000e-12, -5.40000e-13, -2.76000e-12,\n",
       "        9.20000e-13, -2.80000e-12,  1.61000e-12, -2.15000e-12,\n",
       "        1.77000e-12, -2.44000e-12,  7.20000e-13, -3.38000e-12,\n",
       "       -5.90000e-13, -1.05000e-12, -1.92000e-12,  5.30000e-13,\n",
       "       -2.02000e-12,  1.34000e-12, -2.66000e-12,  2.69000e-12,\n",
       "       -2.58000e-12,  1.02000e-12, -2.92000e-12,  3.50000e-13,\n",
       "       -1.31000e-12, -1.28000e-12,  1.90000e-13, -1.60000e-12,\n",
       "        1.59000e-12, -2.78000e-12,  1.94000e-12, -2.44000e-12,\n",
       "        5.70000e-13, -2.42000e-12,  2.60000e-13, -1.30000e-12,\n",
       "       -5.20000e-13,  8.20000e-13, -8.20000e-13, -5.77000e-12,\n",
       "       -2.05000e-12, -4.70000e-13, -2.60000e-12,  1.23000e-12,\n",
       "       -2.77000e-12,  2.16000e-12, -1.57000e-12,  1.22000e-12,\n",
       "       -1.65000e-12, -3.60000e-13,  2.70000e-13, -1.97000e-12,\n",
       "        8.90000e-13, -2.78000e-12,  1.51000e-12, -2.85000e-12,\n",
       "        4.80000e-13, -1.21000e-12,  5.50000e-13, -1.14000e-12,\n",
       "       -5.70000e-13,  5.20000e-13, -2.09000e-12,  5.50000e-13,\n",
       "       -2.44000e-12,  1.45000e-12, -3.15000e-12,  1.47000e-12,\n",
       "       -1.15000e-12])"
      ]
     },
     "execution_count": 101,
     "metadata": {},
     "output_type": "execute_result"
    }
   ],
   "source": [
    "ID.T[1]"
   ]
  },
  {
   "cell_type": "code",
   "execution_count": null,
   "id": "96000647-e7bb-4c86-b9bc-9b909485fc25",
   "metadata": {},
   "outputs": [],
   "source": []
  }
 ],
 "metadata": {
  "kernelspec": {
   "display_name": "Python 3 (ipykernel)",
   "language": "python",
   "name": "python3"
  },
  "language_info": {
   "codemirror_mode": {
    "name": "ipython",
    "version": 3
   },
   "file_extension": ".py",
   "mimetype": "text/x-python",
   "name": "python",
   "nbconvert_exporter": "python",
   "pygments_lexer": "ipython3",
   "version": "3.11.4"
  }
 },
 "nbformat": 4,
 "nbformat_minor": 5
}
