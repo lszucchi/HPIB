{
 "cells": [
  {
   "cell_type": "code",
   "execution_count": 4,
   "id": "2b7976b1-15f5-48e1-acca-681ae604c912",
   "metadata": {},
   "outputs": [],
   "source": [
    "%load_ext autoreload\n",
    "%autoreload 2\n",
    "\n",
    "import pandas as pd\n",
    "import numpy as np\n",
    "import matplotlib.pyplot as plt\n",
    "\n",
    "import sys\n",
    "sys.path.append(\"../modules\")\n",
    "\n",
    "from HPIB_plot import *\n",
    "from scipy.constants import e, k\n",
    "from scipy.special import lambertw\n",
    "from scipy.optimize import least_squares"
   ]
  },
  {
   "cell_type": "code",
   "execution_count": 5,
   "id": "e63c5210-08f9-4e90-9137-1586716a992d",
   "metadata": {},
   "outputs": [],
   "source": [
    "path='C:/Users/Zucchi/Documents/Medidas/240704 - TN10 TP6 TP7 DP1 DP2/TP7/IdVgs - 240706 1523.csv'"
   ]
  },
  {
   "cell_type": "code",
   "execution_count": 6,
   "id": "d5edb313-62c7-45aa-a271-de17d6f46bfa",
   "metadata": {},
   "outputs": [
    {
     "name": "stderr",
     "output_type": "stream",
     "text": [
      "C:\\Users\\Zucchi\\Jupyter\\HPIB\\bin\\../modules\\HPIB_plot.py:49: RuntimeWarning: invalid value encountered in log\n",
      "  return (n*vth*np.log(ID)+(n*vth/I0)*ID-n*vth*np.log(K*I0))/(1-((n*vth*theta)/I0)*ID)\n"
     ]
    },
    {
     "ename": "ValueError",
     "evalue": "Residuals are not finite in the initial point.",
     "output_type": "error",
     "traceback": [
      "\u001b[1;31m---------------------------------------------------------------------------\u001b[0m",
      "\u001b[1;31mValueError\u001b[0m                                Traceback (most recent call last)",
      "Cell \u001b[1;32mIn[6], line 1\u001b[0m\n\u001b[1;32m----> 1\u001b[0m \u001b[43mSecDer\u001b[49m\u001b[43m(\u001b[49m\u001b[43mpath\u001b[49m\u001b[43m,\u001b[49m\u001b[43m \u001b[49m\u001b[38;5;241;43m296\u001b[39;49m\u001b[43m)\u001b[49m\n",
      "File \u001b[1;32m~\\Jupyter\\HPIB\\bin\\../modules\\HPIB_plot.py:325\u001b[0m, in \u001b[0;36mSecDer\u001b[1;34m(path, T)\u001b[0m\n\u001b[0;32m    322\u001b[0m Idfit\u001b[38;5;241m=\u001b[39mID[\u001b[38;5;28mint\u001b[39m(n\u001b[38;5;241m/\u001b[39m\u001b[38;5;241m2\u001b[39m):]\n\u001b[0;32m    324\u001b[0m p0\u001b[38;5;241m=\u001b[39m[\u001b[38;5;241m1e-7\u001b[39m, \u001b[38;5;241m0.4\u001b[39m, \u001b[38;5;241m1e-5\u001b[39m, \u001b[38;5;241m1.4\u001b[39m]\n\u001b[1;32m--> 325\u001b[0m res\u001b[38;5;241m=\u001b[39m\u001b[43mleast_squares\u001b[49m\u001b[43m(\u001b[49m\u001b[43mfun\u001b[49m\u001b[43m,\u001b[49m\u001b[43m \u001b[49m\u001b[43mp0\u001b[49m\u001b[43m,\u001b[49m\u001b[43m \u001b[49m\u001b[43margs\u001b[49m\u001b[38;5;241;43m=\u001b[39;49m\u001b[43m(\u001b[49m\u001b[43mIdfit\u001b[49m\u001b[43m,\u001b[49m\u001b[43m \u001b[49m\u001b[43mVgfit\u001b[49m\u001b[43m,\u001b[49m\u001b[43m \u001b[49m\u001b[43mT\u001b[49m\u001b[43m)\u001b[49m\u001b[43m,\u001b[49m\u001b[43m \u001b[49m\u001b[43mxtol\u001b[49m\u001b[38;5;241;43m=\u001b[39;49m\u001b[38;5;28;43;01mNone\u001b[39;49;00m\u001b[43m,\u001b[49m\u001b[43m \u001b[49m\u001b[43mloss\u001b[49m\u001b[38;5;241;43m=\u001b[39;49m\u001b[38;5;124;43m'\u001b[39;49m\u001b[38;5;124;43mcauchy\u001b[39;49m\u001b[38;5;124;43m'\u001b[39;49m\u001b[43m,\u001b[49m\u001b[43m \u001b[49m\u001b[43mmax_nfev\u001b[49m\u001b[38;5;241;43m=\u001b[39;49m\u001b[38;5;241;43m3000\u001b[39;49m\u001b[43m)\u001b[49m\n\u001b[0;32m    326\u001b[0m \u001b[38;5;28mprint\u001b[39m(T, res\u001b[38;5;241m.\u001b[39mx, res\u001b[38;5;241m.\u001b[39mnfev)\n\u001b[0;32m    328\u001b[0m dgmfit\u001b[38;5;241m=\u001b[39mnp\u001b[38;5;241m.\u001b[39mdiff(Id(res\u001b[38;5;241m.\u001b[39mx, Vgfit, T), n\u001b[38;5;241m=\u001b[39m\u001b[38;5;241m2\u001b[39m)\u001b[38;5;241m/\u001b[39m(np\u001b[38;5;241m.\u001b[39mdiff(Vgfit)[:\u001b[38;5;241m-\u001b[39m\u001b[38;5;241m1\u001b[39m]\u001b[38;5;241m*\u001b[39m\u001b[38;5;241m*\u001b[39m\u001b[38;5;241m2\u001b[39m)\n",
      "File \u001b[1;32m~\\AppData\\Local\\Programs\\Python\\Python311\\Lib\\site-packages\\scipy\\optimize\\_lsq\\least_squares.py:839\u001b[0m, in \u001b[0;36mleast_squares\u001b[1;34m(fun, x0, jac, bounds, method, ftol, xtol, gtol, x_scale, loss, f_scale, diff_step, tr_solver, tr_options, jac_sparsity, max_nfev, verbose, args, kwargs)\u001b[0m\n\u001b[0;32m    835\u001b[0m     \u001b[38;5;28;01mraise\u001b[39;00m \u001b[38;5;167;01mValueError\u001b[39;00m(\u001b[38;5;124m\"\u001b[39m\u001b[38;5;124m`fun` must return at most 1-d array_like. \u001b[39m\u001b[38;5;124m\"\u001b[39m\n\u001b[0;32m    836\u001b[0m                      \u001b[38;5;124mf\u001b[39m\u001b[38;5;124m\"\u001b[39m\u001b[38;5;124mf0.shape: \u001b[39m\u001b[38;5;132;01m{\u001b[39;00mf0\u001b[38;5;241m.\u001b[39mshape\u001b[38;5;132;01m}\u001b[39;00m\u001b[38;5;124m\"\u001b[39m)\n\u001b[0;32m    838\u001b[0m \u001b[38;5;28;01mif\u001b[39;00m \u001b[38;5;129;01mnot\u001b[39;00m np\u001b[38;5;241m.\u001b[39mall(np\u001b[38;5;241m.\u001b[39misfinite(f0)):\n\u001b[1;32m--> 839\u001b[0m     \u001b[38;5;28;01mraise\u001b[39;00m \u001b[38;5;167;01mValueError\u001b[39;00m(\u001b[38;5;124m\"\u001b[39m\u001b[38;5;124mResiduals are not finite in the initial point.\u001b[39m\u001b[38;5;124m\"\u001b[39m)\n\u001b[0;32m    841\u001b[0m n \u001b[38;5;241m=\u001b[39m x0\u001b[38;5;241m.\u001b[39msize\n\u001b[0;32m    842\u001b[0m m \u001b[38;5;241m=\u001b[39m f0\u001b[38;5;241m.\u001b[39msize\n",
      "\u001b[1;31mValueError\u001b[0m: Residuals are not finite in the initial point."
     ]
    }
   ],
   "source": [
    "SecDer(path, 296)"
   ]
  },
  {
   "cell_type": "code",
   "execution_count": null,
   "id": "a08aabe9-2ce1-4534-89ad-687bfa95ad12",
   "metadata": {},
   "outputs": [],
   "source": []
  }
 ],
 "metadata": {
  "kernelspec": {
   "display_name": "Python 3 (ipykernel)",
   "language": "python",
   "name": "python3"
  },
  "language_info": {
   "codemirror_mode": {
    "name": "ipython",
    "version": 3
   },
   "file_extension": ".py",
   "mimetype": "text/x-python",
   "name": "python",
   "nbconvert_exporter": "python",
   "pygments_lexer": "ipython3",
   "version": "3.11.4"
  }
 },
 "nbformat": 4,
 "nbformat_minor": 5
}
